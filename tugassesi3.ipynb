{
 "cells": [
  {
   "cell_type": "code",
   "execution_count": 1,
   "id": "976d9ec4",
   "metadata": {},
   "outputs": [
    {
     "name": "stdout",
     "output_type": "stream",
     "text": [
      "7800\n"
     ]
    }
   ],
   "source": [
    "angka1 = 5000\n",
    "angka2 = 2000\n",
    "angka3 = 200\n",
    "a = 500\n",
    "\n",
    "print ((angka1 + a)+(angka2 + a)-angka3)\n"
   ]
  },
  {
   "cell_type": "code",
   "execution_count": 2,
   "id": "7fd2b0fa",
   "metadata": {},
   "outputs": [
    {
     "name": "stdout",
     "output_type": "stream",
     "text": [
      "latifah\n",
      "085795155079\n",
      "20220040140\n"
     ]
    }
   ],
   "source": [
    "print(\"latifah\")\n",
    "print(\"085795155079\")\n",
    "print(\"20220040140\")"
   ]
  },
  {
   "cell_type": "code",
   "execution_count": 11,
   "id": "e792fb21",
   "metadata": {},
   "outputs": [
    {
     "name": "stdout",
     "output_type": "stream",
     "text": [
      "program menghitung keliling lingkaran\n",
      "masukan nilai jari-jari : 14\n",
      "kelilingnya = 88\n"
     ]
    }
   ],
   "source": [
    "print(\"program menghitung keliling lingkaran\")\n",
    "r = float(input(\"masukan nilai jari-jari : \"))\n",
    "phi = 3.14\n",
    "diameter = 2*r\n",
    "keliling = phi*diameter\n",
    "print(\"kelilingnya =\", str(\"%.0f\" % keliling))"
   ]
  },
  {
   "cell_type": "code",
   "execution_count": null,
   "id": "695f94c2",
   "metadata": {},
   "outputs": [],
   "source": []
  },
  {
   "cell_type": "code",
   "execution_count": null,
   "id": "7c49feca",
   "metadata": {},
   "outputs": [],
   "source": []
  }
 ],
 "metadata": {
  "kernelspec": {
   "display_name": "Python 3 (ipykernel)",
   "language": "python",
   "name": "python3"
  },
  "language_info": {
   "codemirror_mode": {
    "name": "ipython",
    "version": 3
   },
   "file_extension": ".py",
   "mimetype": "text/x-python",
   "name": "python",
   "nbconvert_exporter": "python",
   "pygments_lexer": "ipython3",
   "version": "3.10.4"
  }
 },
 "nbformat": 4,
 "nbformat_minor": 5
}
