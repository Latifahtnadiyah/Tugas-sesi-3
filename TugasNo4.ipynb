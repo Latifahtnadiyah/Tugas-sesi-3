{
 "cells": [
  {
   "cell_type": "code",
   "execution_count": 4,
   "id": "d76c5bb5",
   "metadata": {},
   "outputs": [
    {
     "name": "stdout",
     "output_type": "stream",
     "text": [
      "program menghitung keliling lingkaran\n",
      "masukan nilai jari-jari : 14\n",
      "kelilingnya = 88\n"
     ]
    }
   ],
   "source": [
    "print(\"program menghitung keliling lingkaran\")\n",
    "r = float(input(\"masukan nilai jari-jari : \"))\n",
    "phi = 3.14\n",
    "diameter = 2*r\n",
    "keliling = phi*diameter\n",
    "print(\"kelilingnya =\", str(\"%.0f\" % keliling))"
   ]
  },
  {
   "cell_type": "code",
   "execution_count": 6,
   "id": "ee5bf82f",
   "metadata": {},
   "outputs": [
    {
     "name": "stdout",
     "output_type": "stream",
     "text": [
      "program menghitung volume kubus\n",
      "masukan sisi : 8\n",
      "volume kubus adalah : 512.0\n"
     ]
    }
   ],
   "source": [
    "print(\"program menghitung volume kubus\")\n",
    "sisi = float (input(\"masukan sisi : \" ))\n",
    "hasil = sisi*sisi*sisi\n",
    "print(\"volume kubus adalah : \" + str(hasil ) )"
   ]
  }
 ],
 "metadata": {
  "kernelspec": {
   "display_name": "Python 3 (ipykernel)",
   "language": "python",
   "name": "python3"
  },
  "language_info": {
   "codemirror_mode": {
    "name": "ipython",
    "version": 3
   },
   "file_extension": ".py",
   "mimetype": "text/x-python",
   "name": "python",
   "nbconvert_exporter": "python",
   "pygments_lexer": "ipython3",
   "version": "3.10.4"
  }
 },
 "nbformat": 4,
 "nbformat_minor": 5
}
